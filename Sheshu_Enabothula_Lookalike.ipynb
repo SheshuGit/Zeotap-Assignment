{
  "nbformat": 4,
  "nbformat_minor": 0,
  "metadata": {
    "colab": {
      "provenance": []
    },
    "kernelspec": {
      "name": "python3",
      "display_name": "Python 3"
    },
    "language_info": {
      "name": "python"
    }
  },
  "cells": [
    {
      "cell_type": "code",
      "execution_count": 1,
      "metadata": {
        "id": "nnpRZxb_0kzI"
      },
      "outputs": [],
      "source": [
        "import pandas as pd\n",
        "\n",
        "customers = pd.read_csv(\"Customers.csv\")\n",
        "products = pd.read_csv(\"Products.csv\")\n"
      ]
    },
    {
      "cell_type": "code",
      "source": [
        "from datetime import datetime\n",
        "\n",
        "customers[\"RegionEncoded\"] = customers[\"Region\"].astype(\"category\").cat.codes\n",
        "\n",
        "customers[\"SignupDate\"] = pd.to_datetime(customers[\"SignupDate\"])\n",
        "customers[\"AccountAge\"] = (datetime.now() - customers[\"SignupDate\"]).dt.days\n",
        "\n",
        "customer_features = customers[[\"CustomerID\", \"RegionEncoded\", \"AccountAge\"]]\n"
      ],
      "metadata": {
        "id": "sQmXlBgr2oWi"
      },
      "execution_count": 3,
      "outputs": []
    },
    {
      "cell_type": "code",
      "source": [
        "import random\n",
        "\n",
        "# Creating a dummy product preference feature for customers\n",
        "categories = products[\"Category\"].unique()\n",
        "\n",
        "# Assigning random product preferences to each customer\n",
        "customers[\"PreferredCategory\"] = [random.choice(categories) for _ in range(len(customers))]\n",
        "\n",
        "# One-hot encode the product categories\n",
        "preferred_category_encoded = pd.get_dummies(customers[\"PreferredCategory\"], prefix=\"Category\")\n",
        "\n",
        "# Merge the encoded categories with customer features\n",
        "customer_features = pd.concat([customer_features, preferred_category_encoded], axis=1)\n"
      ],
      "metadata": {
        "id": "4kMRRaD92rIH"
      },
      "execution_count": 4,
      "outputs": []
    },
    {
      "cell_type": "code",
      "source": [
        "from sklearn.metrics.pairwise import cosine_similarity\n",
        "from sklearn.preprocessing import StandardScaler\n",
        "\n",
        "# Scale features for similarity computation\n",
        "scaler = StandardScaler()\n",
        "scaled_features = scaler.fit_transform(customer_features.drop(columns=[\"CustomerID\"]))\n",
        "\n",
        "# Compute cosine similarity matrix\n",
        "similarity_matrix = cosine_similarity(scaled_features)\n"
      ],
      "metadata": {
        "id": "sX1V4mXJ2vP9"
      },
      "execution_count": 5,
      "outputs": []
    },
    {
      "cell_type": "code",
      "source": [
        "import numpy as np\n",
        "\n",
        "# Map CustomerID to similarity matrix index\n",
        "customer_ids = customer_features[\"CustomerID\"].values\n",
        "customer_index_map = {id_: i for i, id_ in enumerate(customer_ids)}\n",
        "\n",
        "# Function to find top N similar customers\n",
        "def get_top_similar_customers(customer_id, top_n=3):\n",
        "    idx = customer_index_map[customer_id]\n",
        "    scores = similarity_matrix[idx]\n",
        "    similar_indices = np.argsort(scores)[::-1][1 : top_n + 1]  # Exclude self\n",
        "    similar_customers = [(customer_ids[i], scores[i]) for i in similar_indices]\n",
        "    return similar_customers\n",
        "\n",
        "# Generate lookalikes for customers C0001 to C0020\n",
        "lookalikes = {}\n",
        "for customer_id in customer_ids[:20]:  # First 20 customers\n",
        "    lookalikes[customer_id] = get_top_similar_customers(customer_id)\n",
        "\n",
        "# Convert to DataFrame\n",
        "lookalikes_df = pd.DataFrame(\n",
        "    [\n",
        "        {\"cust_id\": key, \"lookalikes\": str(value)}\n",
        "        for key, value in lookalikes.items()\n",
        "    ]\n",
        ")\n",
        "\n",
        "# Save to CSV\n",
        "lookalikes_df.to_csv(\"Sheshu_Enabuthula_Lookalike.csv\", index=False)\n"
      ],
      "metadata": {
        "id": "9t0rmaQo20Ub"
      },
      "execution_count": 6,
      "outputs": []
    }
  ]
}